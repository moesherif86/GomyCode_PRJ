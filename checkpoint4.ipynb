{
 "cells": [
  {
   "cell_type": "code",
   "execution_count": 2,
   "id": "7cfe3aa1",
   "metadata": {},
   "outputs": [
    {
     "name": "stdout",
     "output_type": "stream",
     "text": [
      "enter first number:15\n",
      "enter second number:35\n",
      "enter third number:29\n",
      "the bigger number is 35\n"
     ]
    }
   ],
   "source": [
    "def max(a,b,c):\n",
    "    if a> b and a>c:\n",
    "        return a\n",
    "    elif b>a and b>c:\n",
    "        return b\n",
    "    elif c>a and c>b:\n",
    "        return c\n",
    "a = int(input(\"enter first number:\"))\n",
    "b = int(input(\"enter second number:\"))\n",
    "c = int(input(\"enter third number:\"))\n",
    "print (\"the bigger number is\",max(a,b,c))"
   ]
  },
  {
   "cell_type": "code",
   "execution_count": 4,
   "id": "2c91721e",
   "metadata": {},
   "outputs": [
    {
     "name": "stdout",
     "output_type": "stream",
     "text": [
      "enter first number:40\n",
      "enter second number:10\n",
      "(50, 30)\n"
     ]
    }
   ],
   "source": [
    "def calc(a,b):\n",
    "    return a+b , a-b\n",
    "a = int(input(\"enter first number:\"))\n",
    "b = int(input(\"enter second number:\"))\n",
    "print (calc(a,b))"
   ]
  },
  {
   "cell_type": "code",
   "execution_count": 2,
   "id": "3cda857f",
   "metadata": {},
   "outputs": [
    {
     "name": "stdout",
     "output_type": "stream",
     "text": [
      "21\n",
      "720\n",
      "9\n",
      "48\n"
     ]
    }
   ],
   "source": [
    "list = [1,2,3,4,5,6]\n",
    "\n",
    "def add(list): \n",
    "    list_sum = 0\n",
    "    for i in list:\n",
    "        list_sum += i\n",
    "    return (list_sum)\n",
    "\n",
    "def mult(list):\n",
    "    list_mult = 1\n",
    "    for i in list:\n",
    "        list_mult *= i\n",
    "    return (list_mult)\n",
    "print(add(list))\n",
    "print(mult(list))\n",
    "\n",
    "def get_odd_numbers(list):\n",
    "    odd_numbers = []\n",
    "\n",
    "    for k in list:\n",
    "        if k % 2 == 1:\n",
    "            odd_numbers.append(k)\n",
    "\n",
    "    return odd_numbers\n",
    "\n",
    "def get_even_numbers(list):\n",
    "    even_numbers = []\n",
    "\n",
    "    for d in list:\n",
    "        if d % 2 == 0:\n",
    "            even_numbers.append(d)\n",
    "\n",
    "    return even_numbers\n",
    "\n",
    "\n",
    "print (add(get_odd_numbers(list)))\n",
    "print (mult(get_even_numbers(list)))\n"
   ]
  },
  {
   "cell_type": "code",
   "execution_count": 4,
   "id": "5086f783",
   "metadata": {},
   "outputs": [
    {
     "name": "stdout",
     "output_type": "stream",
     "text": [
      "Input Colors :white-black-blue-green-red\n",
      "black-blue-green-red-white\n"
     ]
    }
   ],
   "source": [
    "i = str(input(\"Input Colors :\"))\n",
    "def myfunc(x):\n",
    "    x = x.split(\"-\")\n",
    "    x.sort()\n",
    "    s = \"-\"\n",
    "    s = s.join(x)\n",
    "    return s\n",
    "print(myfunc(i))"
   ]
  },
  {
   "cell_type": "code",
   "execution_count": 2,
   "id": "c547be7c",
   "metadata": {},
   "outputs": [
    {
     "name": "stdout",
     "output_type": "stream",
     "text": [
      "Enter list of numbers separated by comma ,400,300,200\n"
     ]
    },
    {
     "data": {
      "text/plain": [
       "[36.51483716701107, 31.622776601683793, 25.81988897471611]"
      ]
     },
     "execution_count": 2,
     "metadata": {},
     "output_type": "execute_result"
    }
   ],
   "source": [
    "import math\n",
    "d = input(\"Enter list of numbers separated by comma ,\")\n",
    "def myfunc(d):\n",
    "  #create list \n",
    "    d = d.split(\",\")\n",
    "    \n",
    "    q = lambda d: math.sqrt((2*50*d)/30)\n",
    "    ## converting to integer\n",
    "    for i in range(len(d)):\n",
    "        d[i] = int(d[i])\n",
    "    return list(map(q,d))\n",
    "# calling the function ( we always put the input as the parameter)\n",
    "myfunc(d)"
   ]
  },
  {
   "cell_type": "code",
   "execution_count": null,
   "id": "34b69373",
   "metadata": {},
   "outputs": [],
   "source": []
  }
 ],
 "metadata": {
  "kernelspec": {
   "display_name": "Python 3",
   "language": "python",
   "name": "python3"
  },
  "language_info": {
   "codemirror_mode": {
    "name": "ipython",
    "version": 3
   },
   "file_extension": ".py",
   "mimetype": "text/x-python",
   "name": "python",
   "nbconvert_exporter": "python",
   "pygments_lexer": "ipython3",
   "version": "3.8.8"
  }
 },
 "nbformat": 4,
 "nbformat_minor": 5
}
