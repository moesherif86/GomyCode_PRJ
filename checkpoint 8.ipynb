{
 "cells": [
  {
   "cell_type": "code",
   "execution_count": 8,
   "id": "d92ba610",
   "metadata": {},
   "outputs": [
    {
     "name": "stdout",
     "output_type": "stream",
     "text": [
      "input the value of K \n",
      "6\n"
     ]
    },
    {
     "data": {
      "text/plain": [
       "'False'"
      ]
     },
     "execution_count": 8,
     "metadata": {},
     "output_type": "execute_result"
    }
   ],
   "source": [
    "def binary_search(seq,beg,end,k):\n",
    "    if end >= beg:\n",
    "        mid = int(beg + (end-beg) / 2)\n",
    "     \n",
    "        if seq[mid]==k:\n",
    "            print(\"Index location is \",mid)\n",
    "            print (\"True\")\n",
    "        elif k > seq[mid]:\n",
    "            return binary_search(seq,mid+1,end,k)\n",
    "        elif k < seq[mid]:\n",
    "            return binary_search(seq,beg,mid-1,k)\n",
    "    else:\n",
    "        return (\"False\")\n",
    "seq= [1,2,3,5,8]\n",
    "beg = 0\n",
    "end = len(seq)-1\n",
    "k = int(input(\"input the value of K \\n\"))\n",
    "binary_search(seq1,beg,end,k)"
   ]
  },
  {
   "cell_type": "code",
   "execution_count": 7,
   "id": "fe1c0c50",
   "metadata": {},
   "outputs": [
    {
     "name": "stdout",
     "output_type": "stream",
     "text": [
      "input the value of K \n",
      "5\n",
      "Index location is  3\n",
      "True\n"
     ]
    }
   ],
   "source": [
    "def binary_search(seq,beg,end,k):\n",
    "    if end >= beg:\n",
    "        mid = int(beg + (end-beg) / 2)\n",
    "     \n",
    "        if seq[mid]==k:\n",
    "            print(\"Index location is \",mid)\n",
    "            print (\"True\")\n",
    "        elif k > seq[mid]:\n",
    "            return binary_search(seq,mid+1,end,k)\n",
    "        elif k < seq[mid]:\n",
    "            return binary_search(seq,beg,mid-1,k)\n",
    "    else:\n",
    "        return (\"False\")\n",
    "seq= [1,2,3,5,8]\n",
    "beg = 0\n",
    "end = len(seq)-1\n",
    "k = int(input(\"input the value of K \\n\"))\n",
    "binary_search(seq1,beg,end,k)"
   ]
  },
  {
   "cell_type": "code",
   "execution_count": 15,
   "id": "83ec905e",
   "metadata": {},
   "outputs": [
    {
     "name": "stdout",
     "output_type": "stream",
     "text": [
      "input number \n",
      "3\n",
      "input Power value \n",
      "4\n",
      "81\n"
     ]
    }
   ],
   "source": [
    "def recursive_factorial(a,b):\n",
    "    if a==1:\n",
    "        return 1\n",
    "    elif b==1:\n",
    "        return a\n",
    "    else:\n",
    "        return a*recursive_factorial(a,b-1)\n",
    "    \n",
    "a = int(input(\"input number \\n\"))\n",
    "b= int(input(\"input Power value \\n\"))\n",
    "print (recursive_factorial(a,b))"
   ]
  },
  {
   "cell_type": "code",
   "execution_count": 16,
   "id": "dc80ee28",
   "metadata": {},
   "outputs": [
    {
     "data": {
      "text/plain": [
       "[13, 22, 29, 37, 46, 49, 52, 56, 71]"
      ]
     },
     "execution_count": 16,
     "metadata": {},
     "output_type": "execute_result"
    }
   ],
   "source": [
    "def bubble_sort(nlist):\n",
    "    for passnum in range(len(nlist)-1,0,-1): # start point is the end of the list , end point is 0 , step is -1\n",
    "        for i in range(passnum):\n",
    "            if nlist[i] > nlist[i+1]:\n",
    "                nlist[i],nlist[i+1] = nlist[i+1],nlist[i]\n",
    "    return nlist\n",
    "nlist = [29,13,22,37,52,49,46,71,56]\n",
    "bubble_sort(nlist)"
   ]
  },
  {
   "cell_type": "code",
   "execution_count": 17,
   "id": "b94dfc18",
   "metadata": {},
   "outputs": [
    {
     "data": {
      "text/plain": [
       "[13, 22, 29, 37, 46, 49, 52, 56, 71]"
      ]
     },
     "execution_count": 17,
     "metadata": {},
     "output_type": "execute_result"
    }
   ],
   "source": [
    "def mergesort(alist):\n",
    "\n",
    "# breaking down the list to left and right\n",
    "    if len(alist) > 1: # code will keep running as long as length is bigger than 1\n",
    "        mid = len(alist) //2\n",
    "        left = alist[:mid]\n",
    "        right = alist[mid:]\n",
    "        \n",
    "# using recursion and recalling the function inside the function to make sure list is broken down to single items\n",
    "# example: list of 8 items is broken down to items of 1       \n",
    "        mergesort(left)\n",
    "        mergesort(right)\n",
    "        \n",
    "#introducing the variables \n",
    "        \n",
    "        i=0   # represent items location in left list\n",
    "        j=0  # represent item location in right list\n",
    "        k=0  # represent item location in main list\n",
    "        \n",
    "# while loop to make sure each item in left and right list is compared\n",
    "\n",
    "        while i < len(left) and j < len(right): \n",
    "            if left[i] < right[j]:\n",
    "                alist[k] = left[i]\n",
    "                i +=1\n",
    "            else:\n",
    "                alist[k]= right[j]\n",
    "                j +=1   \n",
    "            k +=1\n",
    "\n",
    "#check to make sure no items are left out\n",
    "\n",
    "        while i < len(left):\n",
    "            alist[k]=left[i]\n",
    "            i +=1\n",
    "            k +=1\n",
    "        while j < len(right):\n",
    "            alist[k]=right[j]\n",
    "            j +=1\n",
    "            k +=1\n",
    "#any function needs a return\n",
    "        return (alist)\n",
    "\n",
    "\n",
    "alist = [29,13,22,37,52,49,46,71,56]  \n",
    "mergesort(alist)"
   ]
  },
  {
   "cell_type": "code",
   "execution_count": 18,
   "id": "26e11291",
   "metadata": {},
   "outputs": [
    {
     "name": "stdout",
     "output_type": "stream",
     "text": [
      "[13, 22, 29, 37, 46, 49, 52, 56, 71]\n"
     ]
    }
   ],
   "source": [
    "def partition(array,start,end):  \n",
    "    pivot = array[start]\n",
    "    low = start + 1\n",
    "    high = end\n",
    "    \n",
    "    while True:\n",
    "        while low <= high and array[high] >= pivot:\n",
    "            high = high -1\n",
    "            \n",
    "        while low <= high and array[low] <= pivot:\n",
    "            low = low + 1\n",
    "            \n",
    "        if low <= high:\n",
    "            array[low],array[high] = array[high],array[low]\n",
    "        else:\n",
    "            break\n",
    "    array[start],array[high]= array[high],array[start]\n",
    "    \n",
    "    return high\n",
    "\n",
    "def quicksort(array,start,end):\n",
    "    if start >= end:\n",
    "        return\n",
    "    \n",
    "    p = partition(array,start,end)\n",
    "    quicksort(array,start,p-1)\n",
    "    quicksort(array,p+1,end)\n",
    "    \n",
    "array = [29,13,22,37,52,49,46,71,56]\n",
    "quicksort(array,0,len(array)-1)\n",
    "print (array)"
   ]
  },
  {
   "cell_type": "code",
   "execution_count": null,
   "id": "145f8b45",
   "metadata": {},
   "outputs": [],
   "source": []
  }
 ],
 "metadata": {
  "kernelspec": {
   "display_name": "Python 3",
   "language": "python",
   "name": "python3"
  },
  "language_info": {
   "codemirror_mode": {
    "name": "ipython",
    "version": 3
   },
   "file_extension": ".py",
   "mimetype": "text/x-python",
   "name": "python",
   "nbconvert_exporter": "python",
   "pygments_lexer": "ipython3",
   "version": "3.8.8"
  }
 },
 "nbformat": 4,
 "nbformat_minor": 5
}
