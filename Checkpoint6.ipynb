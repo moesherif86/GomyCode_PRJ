{
 "cells": [
  {
   "cell_type": "code",
   "execution_count": 1,
   "id": "5c32ec22",
   "metadata": {},
   "outputs": [
    {
     "name": "stdout",
     "output_type": "stream",
     "text": [
      "[[1 2]\n",
      " [3 4]]\n",
      "[[1, 2], [3, 4]]\n"
     ]
    }
   ],
   "source": [
    "import numpy as np \n",
    "a= np.array(([1,2],[3,4]))\n",
    "b=a.tolist ()\n",
    "print (a)\n",
    "print (b)"
   ]
  },
  {
   "cell_type": "code",
   "execution_count": 2,
   "id": "525987a8",
   "metadata": {},
   "outputs": [
    {
     "name": "stdout",
     "output_type": "stream",
     "text": [
      "[[1 2 3]\n",
      " [4 5 6]\n",
      " [7 8 9]]\n",
      "15\n",
      "15\n"
     ]
    }
   ],
   "source": [
    "import numpy as np\n",
    "a= np.array(([1,2,3],[4,5,6],[7,8,9]))\n",
    "print (a)\n",
    "b = a[0,0]+a[1,1]+a[2,2]\n",
    "print (b)\n",
    "c= np.trace(a)\n",
    "print (c)"
   ]
  },
  {
   "cell_type": "code",
   "execution_count": 3,
   "id": "6cdd9782",
   "metadata": {},
   "outputs": [
    {
     "name": "stdout",
     "output_type": "stream",
     "text": [
      "[6 7 8 9]\n",
      "[6 7 8 9]\n"
     ]
    }
   ],
   "source": [
    "import numpy as np\n",
    "a= np.array(( [1,2,3]\n",
    "             ,[4,5,6]\n",
    "             ,[7,8,9]))\n",
    "x= 5\n",
    "b= np.where (a > x)\n",
    "print (a[b])\n",
    "print (a[a>x])"
   ]
  },
  {
   "cell_type": "code",
   "execution_count": 4,
   "id": "d3bfffac",
   "metadata": {},
   "outputs": [
    {
     "name": "stdout",
     "output_type": "stream",
     "text": [
      "[[7 7]\n",
      " [7 7]]\n"
     ]
    }
   ],
   "source": [
    "import numpy as np\n",
    "a = np.array(([4,4],[4,4]))\n",
    "b = np.array (([3,3],[3,3]))\n",
    "c = np.add(a,b)\n",
    "print (c)"
   ]
  },
  {
   "cell_type": "code",
   "execution_count": 5,
   "id": "92d45be2",
   "metadata": {},
   "outputs": [
    {
     "name": "stdout",
     "output_type": "stream",
     "text": [
      "-2.0\n"
     ]
    }
   ],
   "source": [
    "import numpy as np\n",
    "a = np.array(([1,2],[3,4]))\n",
    "b= np.mean(a[0,:])\n",
    "c = np.mean(a[1,:])\n",
    "d= b - c\n",
    "print (d)"
   ]
  },
  {
   "cell_type": "code",
   "execution_count": null,
   "id": "6c6ea11b",
   "metadata": {},
   "outputs": [],
   "source": []
  }
 ],
 "metadata": {
  "kernelspec": {
   "display_name": "Python 3",
   "language": "python",
   "name": "python3"
  },
  "language_info": {
   "codemirror_mode": {
    "name": "ipython",
    "version": 3
   },
   "file_extension": ".py",
   "mimetype": "text/x-python",
   "name": "python",
   "nbconvert_exporter": "python",
   "pygments_lexer": "ipython3",
   "version": "3.8.8"
  }
 },
 "nbformat": 4,
 "nbformat_minor": 5
}
