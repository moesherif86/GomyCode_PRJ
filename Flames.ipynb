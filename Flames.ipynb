{
 "cells": [
  {
   "cell_type": "code",
   "execution_count": 36,
   "id": "5e475511",
   "metadata": {},
   "outputs": [
    {
     "name": "stdout",
     "output_type": "stream",
     "text": [
      "Enter First Name \n",
      "ajay\n",
      "Enter Second Name \n",
      "priya\n",
      "['j', 'a', 'p', 'r', 'i']\n",
      "Result is Enemies\n"
     ]
    }
   ],
   "source": [
    "list3 =[]\n",
    "flames = ['Friends','Love','Affection','Marriage','Enemies','Siblings']\n",
    "\n",
    "def crosscheck(list1,list2):         \n",
    "    for i in list1:\n",
    "        if i in list2:\n",
    "            list1.remove(i)\n",
    "            list2.remove(i)\n",
    "            list3 = list1 + list2        \n",
    "    print (list3)\n",
    "    result = divmod(len(list3),6)\n",
    "    if result[0] > result[1]:\n",
    "        print (\"Result is\" ,flames[result[0]-1])\n",
    "        \n",
    "    else:\n",
    "        print (\"Result is\", flames[result[1]-1])\n",
    "\n",
    "\n",
    "\n",
    "        \n",
    "a = str(input(\"Enter First Name \\n\"))\n",
    "b = str(input(\"Enter Second Name \\n\"))\n",
    "list1 =list(a)\n",
    "list2=list(b)\n",
    "\n",
    "\n",
    "\n",
    "crosscheck(list1,list2)\n",
    "    "
   ]
  },
  {
   "cell_type": "code",
   "execution_count": null,
   "id": "971e5c60",
   "metadata": {},
   "outputs": [],
   "source": []
  }
 ],
 "metadata": {
  "kernelspec": {
   "display_name": "Python 3",
   "language": "python",
   "name": "python3"
  },
  "language_info": {
   "codemirror_mode": {
    "name": "ipython",
    "version": 3
   },
   "file_extension": ".py",
   "mimetype": "text/x-python",
   "name": "python",
   "nbconvert_exporter": "python",
   "pygments_lexer": "ipython3",
   "version": "3.8.8"
  }
 },
 "nbformat": 4,
 "nbformat_minor": 5
}
