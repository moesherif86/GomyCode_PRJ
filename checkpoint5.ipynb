{
 "cells": [
  {
   "cell_type": "code",
   "execution_count": 5,
   "id": "f7cb0591",
   "metadata": {},
   "outputs": [
    {
     "data": {
      "text/plain": [
       "(1, 2, 3)"
      ]
     },
     "execution_count": 5,
     "metadata": {},
     "output_type": "execute_result"
    }
   ],
   "source": [
    "class point3D:\n",
    "    def __init__(self,x,y,z):\n",
    "        self.x = x\n",
    "        self.y = y\n",
    "        self.z = z\n",
    "        \n",
    "    def shape(self):\n",
    "        return self.x,self.y,self.z\n",
    "\n",
    "my_point = point3D(1,2,3)\n",
    "\n",
    "my_point.shape()\n"
   ]
  },
  {
   "cell_type": "code",
   "execution_count": 2,
   "id": "80ae8968",
   "metadata": {},
   "outputs": [
    {
     "name": "stdout",
     "output_type": "stream",
     "text": [
      "Area equal: 12\n",
      "perimeter equal :  14\n"
     ]
    }
   ],
   "source": [
    "class rectangle:\n",
    "    def __init__(self,length,width):\n",
    "        self.length = length\n",
    "        self.width = width\n",
    "        \n",
    "    def area(self):\n",
    "         return (self.length * self.width)\n",
    "       \n",
    "    def perimeter(self):\n",
    "        return (2*(self.length + self.width))\n",
    "   \n",
    "my_rectangle = rectangle(3,4)\n",
    "\n",
    "print (\"Area equal:\",my_rectangle.area())\n",
    "print (\"perimeter equal : \",my_rectangle.perimeter())"
   ]
  },
  {
   "cell_type": "code",
   "execution_count": 1,
   "id": "5ed9ce3e",
   "metadata": {},
   "outputs": [
    {
     "name": "stdout",
     "output_type": "stream",
     "text": [
      "50.26548245743669\n",
      "25.132741228718345\n",
      "Enter point X :3\n",
      "Enter Point Y : 2\n",
      "these points are within the Circle!\n",
      "None\n"
     ]
    }
   ],
   "source": [
    "import math\n",
    "class circle:\n",
    "    def __init__(self,o,r):\n",
    "        self.o = o\n",
    "        self.r = r\n",
    "    \n",
    "    def area(self):\n",
    "        return (math.pi*(self.r**2))\n",
    "    \n",
    "    def Perimeter(self):\n",
    "        return (2*math.pi*self.r)\n",
    "\n",
    "    def isinside(self,x,y):\n",
    "        self.x= x\n",
    "        self.y= y\n",
    "        if (self.x <= self.r) and (self.y <= self.r):\n",
    "            print (\"these points are within the Circle!\")\n",
    "        else:\n",
    "            print (\"you are outside my Circle!\")\n",
    "            \n",
    "C = circle(0,4)\n",
    "\n",
    "print (C.area())\n",
    "print (C.Perimeter())\n",
    "x = abs(int(input(\"Enter point X :\")))\n",
    "y = abs(int(input(\"Enter Point Y : \")))\n",
    "\n",
    "print (C.isinside(x,y))"
   ]
  },
  {
   "cell_type": "code",
   "execution_count": 2,
   "id": "41abef66",
   "metadata": {},
   "outputs": [
    {
     "name": "stdout",
     "output_type": "stream",
     "text": [
      " ###### Welcome to Gringots Bank #####\n",
      " #####################################\n",
      " ### Your Balance is: 1000 ###\n",
      " ######################################\n",
      " (W)ithdraw  ######  (D)eposit    \n",
      "How Can i Help you ?: d\n",
      "Please Enter Amount7000\n",
      "you have Deposited  7000 your Remaining Balance is 8000\n"
     ]
    }
   ],
   "source": [
    "class Bank:\n",
    "    def __init__(self,Balance):\n",
    "        self.Balance = Balance\n",
    "        \n",
    "    def Deposit(self,x):\n",
    "        self.x = x\n",
    "        print (\"you have Deposited \",x, \"your Remaining Balance is\",self.Balance + x)\n",
    "    def Withdraw(self,y):\n",
    "        self.y = y\n",
    "        print(\" you Have Withdrawn\", y,\"your remaining Balance is\", self.Balance - y)\n",
    "    \n",
    "acct = Bank(1000)\n",
    "\n",
    "print (\" ###### Welcome to Gringots Bank #####\")\n",
    "print (\" #####################################\")\n",
    "print (\" ### Your Balance is:\",acct.Balance,\"###\")\n",
    "print (\" ######################################\")\n",
    "print (\" (W)ithdraw  ######  (D)eposit    \")\n",
    "\n",
    "\n",
    "\n",
    "while True:\n",
    "    try:\n",
    "        sys = input(\"How Can i Help you ?: \")\n",
    "    except ValueError:\n",
    "        print (\"i do not understand your Choice\")\n",
    "        continue\n",
    "    else:\n",
    "        break\n",
    "    \n",
    "if sys == \"W\" or sys ==\"w\":\n",
    "    y = abs(int(input(\"Please Enter amount\")))\n",
    "    if y<= acct.Balance:\n",
    "        acct.Withdraw(y)\n",
    "    else:\n",
    "        print (\"not enough Balance!\")\n",
    "elif sys == \"D\" or sys == \"d\":\n",
    "    x = abs(int(input(\"Please Enter Amount\")))\n",
    "    acct.Deposit(x)\n",
    "else:\n",
    "    print (\"Not a Valid input\")"
   ]
  },
  {
   "cell_type": "code",
   "execution_count": null,
   "id": "89cca309",
   "metadata": {},
   "outputs": [],
   "source": []
  }
 ],
 "metadata": {
  "kernelspec": {
   "display_name": "Python 3",
   "language": "python",
   "name": "python3"
  },
  "language_info": {
   "codemirror_mode": {
    "name": "ipython",
    "version": 3
   },
   "file_extension": ".py",
   "mimetype": "text/x-python",
   "name": "python",
   "nbconvert_exporter": "python",
   "pygments_lexer": "ipython3",
   "version": "3.8.8"
  }
 },
 "nbformat": 4,
 "nbformat_minor": 5
}
