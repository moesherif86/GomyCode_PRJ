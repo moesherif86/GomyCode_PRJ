{
 "cells": [
  {
   "cell_type": "code",
   "execution_count": 5,
   "id": "02de8b75",
   "metadata": {},
   "outputs": [
    {
     "name": "stdout",
     "output_type": "stream",
     "text": [
      "Enter Countdown in Seconds: \n",
      "45\n",
      "fire in the hole\n"
     ]
    }
   ],
   "source": [
    "import time\n",
    "m = 60\n",
    "def Countdown(t):\n",
    "    while t:\n",
    "        ms = divmod(t,m)\n",
    "        mins = ms[0]\n",
    "        secs = ms[1]\n",
    "        timer = '{:02d}:{:02d}'.format(mins, secs)\n",
    "        print (timer, end=\"\\r\" )\n",
    "        time.sleep(1)\n",
    "        t -=1\n",
    "    print (\"fire in the hole\")\n",
    "        \n",
    "        \n",
    "t= int(input(\"Enter Countdown in Seconds: \\n\"))\n",
    "Countdown(t)"
   ]
  },
  {
   "cell_type": "code",
   "execution_count": null,
   "id": "2843509f",
   "metadata": {},
   "outputs": [],
   "source": []
  }
 ],
 "metadata": {
  "kernelspec": {
   "display_name": "Python 3",
   "language": "python",
   "name": "python3"
  },
  "language_info": {
   "codemirror_mode": {
    "name": "ipython",
    "version": 3
   },
   "file_extension": ".py",
   "mimetype": "text/x-python",
   "name": "python",
   "nbconvert_exporter": "python",
   "pygments_lexer": "ipython3",
   "version": "3.8.8"
  }
 },
 "nbformat": 4,
 "nbformat_minor": 5
}
