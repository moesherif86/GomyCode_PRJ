{
 "cells": [
  {
   "cell_type": "code",
   "execution_count": 1,
   "id": "71072230",
   "metadata": {},
   "outputs": [
    {
     "name": "stdout",
     "output_type": "stream",
     "text": [
      "Welcome to python World! let's Start Coding\n"
     ]
    }
   ],
   "source": [
    "print (\"Welcome to python World! let's Start Coding\")"
   ]
  },
  {
   "cell_type": "code",
   "execution_count": null,
   "id": "ad5d54e0",
   "metadata": {},
   "outputs": [],
   "source": []
  }
 ],
 "metadata": {
  "kernelspec": {
   "display_name": "Python 3",
   "language": "python",
   "name": "python3"
  },
  "language_info": {
   "codemirror_mode": {
    "name": "ipython",
    "version": 3
   },
   "file_extension": ".py",
   "mimetype": "text/x-python",
   "name": "python",
   "nbconvert_exporter": "python",
   "pygments_lexer": "ipython3",
   "version": "3.8.8"
  }
 },
 "nbformat": 4,
 "nbformat_minor": 5
}
